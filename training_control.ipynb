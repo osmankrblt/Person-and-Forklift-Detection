{
 "cells": [
  {
   "cell_type": "code",
   "execution_count": null,
   "metadata": {},
   "outputs": [],
   "source": [
    "import os\n",
    "import wandb\n",
    "import torch\n",
    "\n",
    "os.environ[\"WANDB_NOTEBOOK_NAME\"] = \"your wandb notebook name\""
   ]
  },
  {
   "cell_type": "code",
   "execution_count": null,
   "metadata": {},
   "outputs": [],
   "source": [
    "print(f\"Setup complete. Using torch {torch.__version__} ({torch.cuda.get_device_properties(0).name if torch.cuda.is_available() else 'CPU'})\")"
   ]
  },
  {
   "cell_type": "code",
   "execution_count": null,
   "metadata": {},
   "outputs": [],
   "source": [
    "os.chdir(\"yolov7-main\")"
   ]
  },
  {
   "cell_type": "code",
   "execution_count": null,
   "metadata": {},
   "outputs": [],
   "source": [
    "wandb.login(key=\"your wandb api key\")"
   ]
  },
  {
   "cell_type": "code",
   "execution_count": null,
   "metadata": {},
   "outputs": [],
   "source": [
    "wandb.init(project=\"your project name\",name=f\"run\")"
   ]
  },
  {
   "cell_type": "code",
   "execution_count": null,
   "metadata": {},
   "outputs": [],
   "source": [
    "wandb.run"
   ]
  },
  {
   "cell_type": "code",
   "execution_count": null,
   "metadata": {},
   "outputs": [],
   "source": [
    "config_file_template = '''\n",
    "train: ./Person Forklift Dataset/train  \n",
    "val: ./Person Forklift Dataset/val  \n",
    "test: ./Person Forklift Dataset/test  \n",
    "\n",
    "# number of classes\n",
    "nc: 2\n",
    "\n",
    "# class names\n",
    "names: ['forklift','person']\n",
    "\n",
    "'''\n",
    "\n",
    "with open('data/myCustom.yaml', 'w') as f:\n",
    "    f.write(config_file_template)"
   ]
  },
  {
   "cell_type": "code",
   "execution_count": null,
   "metadata": {},
   "outputs": [],
   "source": [
    "!python train.py --weights yolov7.pt --data \"data/myCustom.yaml\" --workers 4 --batch-size 8 --img 416 --cfg cfg/training/yolov7.yaml --project \"Person-Forklift Detection\" --name \"run\"  --hyp data/hyp.scratch.p5.yaml"
   ]
  }
 ],
 "metadata": {
  "kernelspec": {
   "display_name": "Python 3.9.13 ('machineLearning')",
   "language": "python",
   "name": "python3"
  },
  "language_info": {
   "codemirror_mode": {
    "name": "ipython",
    "version": 3
   },
   "file_extension": ".py",
   "mimetype": "text/x-python",
   "name": "python",
   "nbconvert_exporter": "python",
   "pygments_lexer": "ipython3",
   "version": "3.9.13"
  },
  "orig_nbformat": 4,
  "vscode": {
   "interpreter": {
    "hash": "ba0bac22d9eb68f7f5a06ef2e353ac664856aa0e4acc18841217d9d0b0f1928e"
   }
  }
 },
 "nbformat": 4,
 "nbformat_minor": 2
}
